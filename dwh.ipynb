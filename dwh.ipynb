{
 "cells": [
  {
   "cell_type": "code",
   "execution_count": 24,
   "metadata": {},
   "outputs": [],
   "source": [
    "import pandas as pd\n",
    "import numpy as np\n",
    "import boto3\n",
    "import psycopg2\n",
    "import configparser"
   ]
  },
  {
   "cell_type": "code",
   "execution_count": 25,
   "metadata": {},
   "outputs": [
    {
     "data": {
      "text/plain": [
       "['escec.cfg']"
      ]
     },
     "execution_count": 25,
     "metadata": {},
     "output_type": "execute_result"
    }
   ],
   "source": [
    "config = configparser.ConfigParser()\n",
    "config.read('escec.cfg')"
   ]
  },
  {
   "cell_type": "code",
   "execution_count": 26,
   "metadata": {},
   "outputs": [
    {
     "name": "stdout",
     "output_type": "stream",
     "text": [
      "comercio-db.cxfxom467xtx.us-east-1.rds.amazonaws.com\n"
     ]
    }
   ],
   "source": [
    "RDS_HOST = 'comercio-db.cxfxom467xtx.us-east-1.rds.amazonaws.com'\n",
    "#RDS_HOST=config.get('DW', 'RDS_HOST')\n",
    "#RDS_HOST\n",
    "print(RDS_HOST)"
   ]
  },
  {
   "cell_type": "code",
   "execution_count": 27,
   "metadata": {},
   "outputs": [],
   "source": [
    "postgres_driver = f\"\"\"postgresql://{config.get('RDS', 'DB_USER')}:{config.get('RDS', 'DB_PASSWORD')}@{RDS_HOST}:{config.get('RDS', 'DB_PORT')}/{config.get('RDS', 'DB_NAME')}\"\"\"  "
   ]
  },
  {
   "attachments": {},
   "cell_type": "markdown",
   "metadata": {},
   "source": [
    "#### Creación de dimensiones "
   ]
  },
  {
   "cell_type": "code",
   "execution_count": 28,
   "metadata": {},
   "outputs": [
    {
     "data": {
      "text/html": [
       "<div>\n",
       "<style scoped>\n",
       "    .dataframe tbody tr th:only-of-type {\n",
       "        vertical-align: middle;\n",
       "    }\n",
       "\n",
       "    .dataframe tbody tr th {\n",
       "        vertical-align: top;\n",
       "    }\n",
       "\n",
       "    .dataframe thead th {\n",
       "        text-align: right;\n",
       "    }\n",
       "</style>\n",
       "<table border=\"1\" class=\"dataframe\">\n",
       "  <thead>\n",
       "    <tr style=\"text-align: right;\">\n",
       "      <th></th>\n",
       "      <th>customersk</th>\n",
       "      <th>customer_id</th>\n",
       "      <th>name</th>\n",
       "      <th>email</th>\n",
       "      <th>phone</th>\n",
       "      <th>customer_city</th>\n",
       "      <th>customer_state</th>\n",
       "    </tr>\n",
       "  </thead>\n",
       "  <tbody>\n",
       "    <tr>\n",
       "      <th>0</th>\n",
       "      <td>2610</td>\n",
       "      <td>06b8999e2fba1a1fbc88172c00ba8bc7</td>\n",
       "      <td>Raquel Judd</td>\n",
       "      <td>Raquel_Judd2052@iscmr.app</td>\n",
       "      <td>Raquel Judd</td>\n",
       "      <td>franca</td>\n",
       "      <td>SP</td>\n",
       "    </tr>\n",
       "    <tr>\n",
       "      <th>1</th>\n",
       "      <td>9561</td>\n",
       "      <td>18955e83d337fd6b2def6b18a428ac77</td>\n",
       "      <td>Sharon Walsh</td>\n",
       "      <td>Sharon_Walsh658@yfxpw.shop</td>\n",
       "      <td>Sharon Walsh</td>\n",
       "      <td>sao bernardo do campo</td>\n",
       "      <td>SP</td>\n",
       "    </tr>\n",
       "    <tr>\n",
       "      <th>2</th>\n",
       "      <td>30460</td>\n",
       "      <td>4e7b3e00288586ebd08712fdd0374a03</td>\n",
       "      <td>Marvin Radcliffe</td>\n",
       "      <td>Marvin_Radcliffe1768@bu2lo.directory</td>\n",
       "      <td>Marvin Radcliffe</td>\n",
       "      <td>sao paulo</td>\n",
       "      <td>SP</td>\n",
       "    </tr>\n",
       "    <tr>\n",
       "      <th>3</th>\n",
       "      <td>69605</td>\n",
       "      <td>b2b6027bc5c5109e529d4dc6358b12c3</td>\n",
       "      <td>Javier Stone</td>\n",
       "      <td>Javier_Stone 9704@karnv.digital</td>\n",
       "      <td>Javier Stone</td>\n",
       "      <td>mogi das cruzes</td>\n",
       "      <td>SP</td>\n",
       "    </tr>\n",
       "    <tr>\n",
       "      <th>4</th>\n",
       "      <td>30707</td>\n",
       "      <td>4f2d8ab171c80ec8364f7c12e35b23ad</td>\n",
       "      <td>Carl Palmer</td>\n",
       "      <td>Carl_Palmer3085@qu9ml.info</td>\n",
       "      <td>Carl Palmer</td>\n",
       "      <td>campinas</td>\n",
       "      <td>SP</td>\n",
       "    </tr>\n",
       "  </tbody>\n",
       "</table>\n",
       "</div>"
      ],
      "text/plain": [
       "   customersk                       customer_id              name  \\\n",
       "0        2610  06b8999e2fba1a1fbc88172c00ba8bc7       Raquel Judd   \n",
       "1        9561  18955e83d337fd6b2def6b18a428ac77      Sharon Walsh   \n",
       "2       30460  4e7b3e00288586ebd08712fdd0374a03  Marvin Radcliffe   \n",
       "3       69605  b2b6027bc5c5109e529d4dc6358b12c3     Javier Stone    \n",
       "4       30707  4f2d8ab171c80ec8364f7c12e35b23ad       Carl Palmer   \n",
       "\n",
       "                                  email             phone  \\\n",
       "0             Raquel_Judd2052@iscmr.app       Raquel Judd   \n",
       "1            Sharon_Walsh658@yfxpw.shop      Sharon Walsh   \n",
       "2  Marvin_Radcliffe1768@bu2lo.directory  Marvin Radcliffe   \n",
       "3       Javier_Stone 9704@karnv.digital     Javier Stone    \n",
       "4            Carl_Palmer3085@qu9ml.info       Carl Palmer   \n",
       "\n",
       "           customer_city customer_state  \n",
       "0                 franca             SP  \n",
       "1  sao bernardo do campo             SP  \n",
       "2              sao paulo             SP  \n",
       "3        mogi das cruzes             SP  \n",
       "4               campinas             SP  "
      ]
     },
     "execution_count": 28,
     "metadata": {},
     "output_type": "execute_result"
    }
   ],
   "source": [
    "sql_query = 'SELECT * FROM customer;'\n",
    "dimcustomer = pd.read_sql(sql_query, postgres_driver)\n",
    "dimcustomer.head()"
   ]
  },
  {
   "cell_type": "code",
   "execution_count": 29,
   "metadata": {},
   "outputs": [
    {
     "data": {
      "text/html": [
       "<div>\n",
       "<style scoped>\n",
       "    .dataframe tbody tr th:only-of-type {\n",
       "        vertical-align: middle;\n",
       "    }\n",
       "\n",
       "    .dataframe tbody tr th {\n",
       "        vertical-align: top;\n",
       "    }\n",
       "\n",
       "    .dataframe thead th {\n",
       "        text-align: right;\n",
       "    }\n",
       "</style>\n",
       "<table border=\"1\" class=\"dataframe\">\n",
       "  <thead>\n",
       "    <tr style=\"text-align: right;\">\n",
       "      <th></th>\n",
       "      <th>sellersk</th>\n",
       "      <th>seller_id</th>\n",
       "      <th>name</th>\n",
       "      <th>email</th>\n",
       "      <th>phone</th>\n",
       "      <th>seller_city</th>\n",
       "      <th>seller_state</th>\n",
       "    </tr>\n",
       "  </thead>\n",
       "  <tbody>\n",
       "    <tr>\n",
       "      <th>0</th>\n",
       "      <td>622</td>\n",
       "      <td>3442f8959a84dea7ee197c632cb2df15</td>\n",
       "      <td>Harry Bristow</td>\n",
       "      <td>Harry_Bristow7332@qu9ml.mobi</td>\n",
       "      <td>3-344-234-7821</td>\n",
       "      <td>campinas</td>\n",
       "      <td>SP</td>\n",
       "    </tr>\n",
       "    <tr>\n",
       "      <th>1</th>\n",
       "      <td>2540</td>\n",
       "      <td>d1b65fc7debc3361ea86b5f14c68d2e2</td>\n",
       "      <td>Rylee Leslie</td>\n",
       "      <td>Rylee_Leslie802@hepmv.com</td>\n",
       "      <td>0-613-821-5215</td>\n",
       "      <td>mogi guacu</td>\n",
       "      <td>SP</td>\n",
       "    </tr>\n",
       "    <tr>\n",
       "      <th>2</th>\n",
       "      <td>2505</td>\n",
       "      <td>ce3ad9de960102d0677a81f5d0bb7b2d</td>\n",
       "      <td>Melania Price</td>\n",
       "      <td>Melania_Price7438@mpibr.info</td>\n",
       "      <td>1-012-871-2736</td>\n",
       "      <td>rio de janeiro</td>\n",
       "      <td>RJ</td>\n",
       "    </tr>\n",
       "    <tr>\n",
       "      <th>3</th>\n",
       "      <td>2325</td>\n",
       "      <td>c0f3eea2e14555b6faeea3dd58c1b1c3</td>\n",
       "      <td>Bryon Holt</td>\n",
       "      <td>Bryon_Holt9825@cke3u.software</td>\n",
       "      <td>5-082-413-8028</td>\n",
       "      <td>sao paulo</td>\n",
       "      <td>SP</td>\n",
       "    </tr>\n",
       "    <tr>\n",
       "      <th>4</th>\n",
       "      <td>981</td>\n",
       "      <td>51a04a8a6bdcb23deccc82b0b80742cf</td>\n",
       "      <td>Carolyn Furnell</td>\n",
       "      <td>Carolyn_Furnell3693@1wa8o.business</td>\n",
       "      <td>7-014-178-0073</td>\n",
       "      <td>braganca paulista</td>\n",
       "      <td>SP</td>\n",
       "    </tr>\n",
       "  </tbody>\n",
       "</table>\n",
       "</div>"
      ],
      "text/plain": [
       "   sellersk                         seller_id             name  \\\n",
       "0       622  3442f8959a84dea7ee197c632cb2df15    Harry Bristow   \n",
       "1      2540  d1b65fc7debc3361ea86b5f14c68d2e2     Rylee Leslie   \n",
       "2      2505  ce3ad9de960102d0677a81f5d0bb7b2d    Melania Price   \n",
       "3      2325  c0f3eea2e14555b6faeea3dd58c1b1c3       Bryon Holt   \n",
       "4       981  51a04a8a6bdcb23deccc82b0b80742cf  Carolyn Furnell   \n",
       "\n",
       "                                email           phone        seller_city  \\\n",
       "0        Harry_Bristow7332@qu9ml.mobi  3-344-234-7821           campinas   \n",
       "1           Rylee_Leslie802@hepmv.com  0-613-821-5215         mogi guacu   \n",
       "2        Melania_Price7438@mpibr.info  1-012-871-2736     rio de janeiro   \n",
       "3       Bryon_Holt9825@cke3u.software  5-082-413-8028          sao paulo   \n",
       "4  Carolyn_Furnell3693@1wa8o.business  7-014-178-0073  braganca paulista   \n",
       "\n",
       "  seller_state  \n",
       "0           SP  \n",
       "1           SP  \n",
       "2           RJ  \n",
       "3           SP  \n",
       "4           SP  "
      ]
     },
     "execution_count": 29,
     "metadata": {},
     "output_type": "execute_result"
    }
   ],
   "source": [
    "sql_query = 'SELECT * FROM seller;'\n",
    "dimseller = pd.read_sql(sql_query, postgres_driver)\n",
    "dimseller.head()"
   ]
  },
  {
   "cell_type": "code",
   "execution_count": 30,
   "metadata": {},
   "outputs": [
    {
     "data": {
      "text/html": [
       "<div>\n",
       "<style scoped>\n",
       "    .dataframe tbody tr th:only-of-type {\n",
       "        vertical-align: middle;\n",
       "    }\n",
       "\n",
       "    .dataframe tbody tr th {\n",
       "        vertical-align: top;\n",
       "    }\n",
       "\n",
       "    .dataframe thead th {\n",
       "        text-align: right;\n",
       "    }\n",
       "</style>\n",
       "<table border=\"1\" class=\"dataframe\">\n",
       "  <thead>\n",
       "    <tr style=\"text-align: right;\">\n",
       "      <th></th>\n",
       "      <th>reviewsk</th>\n",
       "      <th>review_id</th>\n",
       "      <th>review_score</th>\n",
       "      <th>review_comment_message</th>\n",
       "    </tr>\n",
       "  </thead>\n",
       "  <tbody>\n",
       "    <tr>\n",
       "      <th>0</th>\n",
       "      <td>47621</td>\n",
       "      <td>7bc2406110b926393aa56f80a40eba40</td>\n",
       "      <td>4</td>\n",
       "      <td>sem comentarios</td>\n",
       "    </tr>\n",
       "    <tr>\n",
       "      <th>1</th>\n",
       "      <td>49619</td>\n",
       "      <td>80e641a11e56f04c1ad469d5645fdfde</td>\n",
       "      <td>5</td>\n",
       "      <td>sem comentarios</td>\n",
       "    </tr>\n",
       "    <tr>\n",
       "      <th>2</th>\n",
       "      <td>13223</td>\n",
       "      <td>228ce5500dc1d8e020d8d1322874b6f0</td>\n",
       "      <td>5</td>\n",
       "      <td>sem comentarios</td>\n",
       "    </tr>\n",
       "    <tr>\n",
       "      <th>3</th>\n",
       "      <td>88592</td>\n",
       "      <td>e64fb393e7b32834bb789ff8bb30750e</td>\n",
       "      <td>5</td>\n",
       "      <td>Recebi bem antes do prazo estipulado.</td>\n",
       "    </tr>\n",
       "    <tr>\n",
       "      <th>4</th>\n",
       "      <td>95219</td>\n",
       "      <td>f7c4243c7fe1938f181bec41a392bdeb</td>\n",
       "      <td>5</td>\n",
       "      <td>Parabéns lojas lannister adorei comprar pela I...</td>\n",
       "    </tr>\n",
       "  </tbody>\n",
       "</table>\n",
       "</div>"
      ],
      "text/plain": [
       "   reviewsk                         review_id  review_score  \\\n",
       "0     47621  7bc2406110b926393aa56f80a40eba40             4   \n",
       "1     49619  80e641a11e56f04c1ad469d5645fdfde             5   \n",
       "2     13223  228ce5500dc1d8e020d8d1322874b6f0             5   \n",
       "3     88592  e64fb393e7b32834bb789ff8bb30750e             5   \n",
       "4     95219  f7c4243c7fe1938f181bec41a392bdeb             5   \n",
       "\n",
       "                              review_comment_message  \n",
       "0                                    sem comentarios  \n",
       "1                                    sem comentarios  \n",
       "2                                    sem comentarios  \n",
       "3              Recebi bem antes do prazo estipulado.  \n",
       "4  Parabéns lojas lannister adorei comprar pela I...  "
      ]
     },
     "execution_count": 30,
     "metadata": {},
     "output_type": "execute_result"
    }
   ],
   "source": [
    "sql_query = 'SELECT * FROM review;'\n",
    "dimreview = pd.read_sql(sql_query, postgres_driver)\n",
    "dimreview.head()"
   ]
  },
  {
   "cell_type": "code",
   "execution_count": 31,
   "metadata": {},
   "outputs": [
    {
     "data": {
      "text/html": [
       "<div>\n",
       "<style scoped>\n",
       "    .dataframe tbody tr th:only-of-type {\n",
       "        vertical-align: middle;\n",
       "    }\n",
       "\n",
       "    .dataframe tbody tr th {\n",
       "        vertical-align: top;\n",
       "    }\n",
       "\n",
       "    .dataframe thead th {\n",
       "        text-align: right;\n",
       "    }\n",
       "</style>\n",
       "<table border=\"1\" class=\"dataframe\">\n",
       "  <thead>\n",
       "    <tr style=\"text-align: right;\">\n",
       "      <th></th>\n",
       "      <th>ordersk</th>\n",
       "      <th>order_id</th>\n",
       "      <th>order_status</th>\n",
       "    </tr>\n",
       "  </thead>\n",
       "  <tbody>\n",
       "    <tr>\n",
       "      <th>0</th>\n",
       "      <td>88950</td>\n",
       "      <td>e481f51cbdc54678b7cc49136f2d6af7</td>\n",
       "      <td>delivered</td>\n",
       "    </tr>\n",
       "    <tr>\n",
       "      <th>1</th>\n",
       "      <td>32545</td>\n",
       "      <td>53cdb2fc8bc7dce0b6741e2150273451</td>\n",
       "      <td>delivered</td>\n",
       "    </tr>\n",
       "    <tr>\n",
       "      <th>2</th>\n",
       "      <td>27769</td>\n",
       "      <td>47770eb9100c2d0c44946d9cf07ec65d</td>\n",
       "      <td>delivered</td>\n",
       "    </tr>\n",
       "    <tr>\n",
       "      <th>3</th>\n",
       "      <td>57385</td>\n",
       "      <td>949d5b44dbf5de918fe9c16f97b45f8a</td>\n",
       "      <td>delivered</td>\n",
       "    </tr>\n",
       "    <tr>\n",
       "      <th>4</th>\n",
       "      <td>67043</td>\n",
       "      <td>ad21c59c0840e6cb83a9ceb5573f8159</td>\n",
       "      <td>delivered</td>\n",
       "    </tr>\n",
       "  </tbody>\n",
       "</table>\n",
       "</div>"
      ],
      "text/plain": [
       "   ordersk                          order_id order_status\n",
       "0    88950  e481f51cbdc54678b7cc49136f2d6af7    delivered\n",
       "1    32545  53cdb2fc8bc7dce0b6741e2150273451    delivered\n",
       "2    27769  47770eb9100c2d0c44946d9cf07ec65d    delivered\n",
       "3    57385  949d5b44dbf5de918fe9c16f97b45f8a    delivered\n",
       "4    67043  ad21c59c0840e6cb83a9ceb5573f8159    delivered"
      ]
     },
     "execution_count": 31,
     "metadata": {},
     "output_type": "execute_result"
    }
   ],
   "source": [
    "sql_query = 'SELECT * FROM orderhead;'\n",
    "dimorder = pd.read_sql(sql_query, postgres_driver)\n",
    "dimorder.head()"
   ]
  },
  {
   "cell_type": "code",
   "execution_count": 32,
   "metadata": {},
   "outputs": [
    {
     "data": {
      "text/html": [
       "<div>\n",
       "<style scoped>\n",
       "    .dataframe tbody tr th:only-of-type {\n",
       "        vertical-align: middle;\n",
       "    }\n",
       "\n",
       "    .dataframe tbody tr th {\n",
       "        vertical-align: top;\n",
       "    }\n",
       "\n",
       "    .dataframe thead th {\n",
       "        text-align: right;\n",
       "    }\n",
       "</style>\n",
       "<table border=\"1\" class=\"dataframe\">\n",
       "  <thead>\n",
       "    <tr style=\"text-align: right;\">\n",
       "      <th></th>\n",
       "      <th>productsk</th>\n",
       "      <th>product_id</th>\n",
       "      <th>product_width_cm</th>\n",
       "      <th>product_length_cm</th>\n",
       "      <th>product_height_cm</th>\n",
       "      <th>product_weight_g</th>\n",
       "    </tr>\n",
       "  </thead>\n",
       "  <tbody>\n",
       "    <tr>\n",
       "      <th>0</th>\n",
       "      <td>4053</td>\n",
       "      <td>1e9e8ef04dbcff4541ed26657ea517e5</td>\n",
       "      <td>14.0</td>\n",
       "      <td>16.0</td>\n",
       "      <td>10.0</td>\n",
       "      <td>225.0</td>\n",
       "    </tr>\n",
       "    <tr>\n",
       "      <th>1</th>\n",
       "      <td>7645</td>\n",
       "      <td>3aa071139cb16b67ca9e5dea641aaa2f</td>\n",
       "      <td>20.0</td>\n",
       "      <td>30.0</td>\n",
       "      <td>18.0</td>\n",
       "      <td>1000.0</td>\n",
       "    </tr>\n",
       "    <tr>\n",
       "      <th>2</th>\n",
       "      <td>19351</td>\n",
       "      <td>96bd76ec8810374ed1b65e291975717f</td>\n",
       "      <td>15.0</td>\n",
       "      <td>18.0</td>\n",
       "      <td>9.0</td>\n",
       "      <td>154.0</td>\n",
       "    </tr>\n",
       "    <tr>\n",
       "      <th>3</th>\n",
       "      <td>26672</td>\n",
       "      <td>cef67bcfe19066a932b7673e239eb23d</td>\n",
       "      <td>26.0</td>\n",
       "      <td>26.0</td>\n",
       "      <td>4.0</td>\n",
       "      <td>371.0</td>\n",
       "    </tr>\n",
       "    <tr>\n",
       "      <th>4</th>\n",
       "      <td>20305</td>\n",
       "      <td>9dc1a7de274444849c219cff195d0b71</td>\n",
       "      <td>13.0</td>\n",
       "      <td>20.0</td>\n",
       "      <td>17.0</td>\n",
       "      <td>625.0</td>\n",
       "    </tr>\n",
       "  </tbody>\n",
       "</table>\n",
       "</div>"
      ],
      "text/plain": [
       "   productsk                        product_id  product_width_cm  \\\n",
       "0       4053  1e9e8ef04dbcff4541ed26657ea517e5              14.0   \n",
       "1       7645  3aa071139cb16b67ca9e5dea641aaa2f              20.0   \n",
       "2      19351  96bd76ec8810374ed1b65e291975717f              15.0   \n",
       "3      26672  cef67bcfe19066a932b7673e239eb23d              26.0   \n",
       "4      20305  9dc1a7de274444849c219cff195d0b71              13.0   \n",
       "\n",
       "   product_length_cm  product_height_cm  product_weight_g  \n",
       "0               16.0               10.0             225.0  \n",
       "1               30.0               18.0            1000.0  \n",
       "2               18.0                9.0             154.0  \n",
       "3               26.0                4.0             371.0  \n",
       "4               20.0               17.0             625.0  "
      ]
     },
     "execution_count": 32,
     "metadata": {},
     "output_type": "execute_result"
    }
   ],
   "source": [
    "sql_query = 'SELECT * FROM product;'\n",
    "dimproduct= pd.read_sql(sql_query, postgres_driver)\n",
    "dimproduct.head()"
   ]
  },
  {
   "cell_type": "code",
   "execution_count": 33,
   "metadata": {},
   "outputs": [
    {
     "data": {
      "text/html": [
       "<div>\n",
       "<style scoped>\n",
       "    .dataframe tbody tr th:only-of-type {\n",
       "        vertical-align: middle;\n",
       "    }\n",
       "\n",
       "    .dataframe tbody tr th {\n",
       "        vertical-align: top;\n",
       "    }\n",
       "\n",
       "    .dataframe thead th {\n",
       "        text-align: right;\n",
       "    }\n",
       "</style>\n",
       "<table border=\"1\" class=\"dataframe\">\n",
       "  <thead>\n",
       "    <tr style=\"text-align: right;\">\n",
       "      <th></th>\n",
       "      <th>order_purchase_timestamp</th>\n",
       "    </tr>\n",
       "  </thead>\n",
       "  <tbody>\n",
       "    <tr>\n",
       "      <th>0</th>\n",
       "      <td>2017-10-02 10:56:33</td>\n",
       "    </tr>\n",
       "    <tr>\n",
       "      <th>1</th>\n",
       "      <td>2017-10-02 10:56:33</td>\n",
       "    </tr>\n",
       "    <tr>\n",
       "      <th>2</th>\n",
       "      <td>2017-10-02 10:56:33</td>\n",
       "    </tr>\n",
       "    <tr>\n",
       "      <th>3</th>\n",
       "      <td>2018-07-24 20:41:37</td>\n",
       "    </tr>\n",
       "    <tr>\n",
       "      <th>4</th>\n",
       "      <td>2018-08-08 08:38:49</td>\n",
       "    </tr>\n",
       "  </tbody>\n",
       "</table>\n",
       "</div>"
      ],
      "text/plain": [
       "  order_purchase_timestamp\n",
       "0      2017-10-02 10:56:33\n",
       "1      2017-10-02 10:56:33\n",
       "2      2017-10-02 10:56:33\n",
       "3      2018-07-24 20:41:37\n",
       "4      2018-08-08 08:38:49"
      ]
     },
     "execution_count": 33,
     "metadata": {},
     "output_type": "execute_result"
    }
   ],
   "source": [
    "sql_query = 'SELECT order_purchase_timestamp FROM ventas;'\n",
    "dimFechaHora = pd.read_sql(sql_query, postgres_driver)\n",
    "dimFechaHora.head()"
   ]
  },
  {
   "cell_type": "code",
   "execution_count": 34,
   "metadata": {},
   "outputs": [
    {
     "name": "stderr",
     "output_type": "stream",
     "text": [
      "C:\\Users\\50259\\AppData\\Local\\Temp\\ipykernel_9088\\1286954157.py:6: FutureWarning: weekofyear and week have been deprecated, please use DatetimeIndex.isocalendar().week instead, which returns a Series. To exactly reproduce the behavior of week and weekofyear and return an Index, you may call pd.Int64Index(idx.isocalendar().week)\n",
      "  dimFechaHora['week'] = pd.DatetimeIndex(dimFechaHora['order_purchase_timestamp']).week\n"
     ]
    },
    {
     "data": {
      "text/html": [
       "<div>\n",
       "<style scoped>\n",
       "    .dataframe tbody tr th:only-of-type {\n",
       "        vertical-align: middle;\n",
       "    }\n",
       "\n",
       "    .dataframe tbody tr th {\n",
       "        vertical-align: top;\n",
       "    }\n",
       "\n",
       "    .dataframe thead th {\n",
       "        text-align: right;\n",
       "    }\n",
       "</style>\n",
       "<table border=\"1\" class=\"dataframe\">\n",
       "  <thead>\n",
       "    <tr style=\"text-align: right;\">\n",
       "      <th></th>\n",
       "      <th>order_purchase_timestamp</th>\n",
       "      <th>year</th>\n",
       "      <th>month</th>\n",
       "      <th>quarter</th>\n",
       "      <th>day</th>\n",
       "      <th>week</th>\n",
       "      <th>dayofweek</th>\n",
       "      <th>hour</th>\n",
       "      <th>minute</th>\n",
       "      <th>is_weekend</th>\n",
       "    </tr>\n",
       "  </thead>\n",
       "  <tbody>\n",
       "    <tr>\n",
       "      <th>0</th>\n",
       "      <td>2017-10-02 10:56:33</td>\n",
       "      <td>2017</td>\n",
       "      <td>10</td>\n",
       "      <td>4</td>\n",
       "      <td>2</td>\n",
       "      <td>40</td>\n",
       "      <td>0</td>\n",
       "      <td>10</td>\n",
       "      <td>56</td>\n",
       "      <td>0</td>\n",
       "    </tr>\n",
       "    <tr>\n",
       "      <th>1</th>\n",
       "      <td>2017-10-02 10:56:33</td>\n",
       "      <td>2017</td>\n",
       "      <td>10</td>\n",
       "      <td>4</td>\n",
       "      <td>2</td>\n",
       "      <td>40</td>\n",
       "      <td>0</td>\n",
       "      <td>10</td>\n",
       "      <td>56</td>\n",
       "      <td>0</td>\n",
       "    </tr>\n",
       "    <tr>\n",
       "      <th>2</th>\n",
       "      <td>2017-10-02 10:56:33</td>\n",
       "      <td>2017</td>\n",
       "      <td>10</td>\n",
       "      <td>4</td>\n",
       "      <td>2</td>\n",
       "      <td>40</td>\n",
       "      <td>0</td>\n",
       "      <td>10</td>\n",
       "      <td>56</td>\n",
       "      <td>0</td>\n",
       "    </tr>\n",
       "    <tr>\n",
       "      <th>3</th>\n",
       "      <td>2018-07-24 20:41:37</td>\n",
       "      <td>2018</td>\n",
       "      <td>7</td>\n",
       "      <td>3</td>\n",
       "      <td>24</td>\n",
       "      <td>30</td>\n",
       "      <td>1</td>\n",
       "      <td>20</td>\n",
       "      <td>41</td>\n",
       "      <td>0</td>\n",
       "    </tr>\n",
       "    <tr>\n",
       "      <th>4</th>\n",
       "      <td>2018-08-08 08:38:49</td>\n",
       "      <td>2018</td>\n",
       "      <td>8</td>\n",
       "      <td>3</td>\n",
       "      <td>8</td>\n",
       "      <td>32</td>\n",
       "      <td>2</td>\n",
       "      <td>8</td>\n",
       "      <td>38</td>\n",
       "      <td>0</td>\n",
       "    </tr>\n",
       "  </tbody>\n",
       "</table>\n",
       "</div>"
      ],
      "text/plain": [
       "  order_purchase_timestamp  year  month  quarter  day  week  dayofweek  hour  \\\n",
       "0      2017-10-02 10:56:33  2017     10        4    2    40          0    10   \n",
       "1      2017-10-02 10:56:33  2017     10        4    2    40          0    10   \n",
       "2      2017-10-02 10:56:33  2017     10        4    2    40          0    10   \n",
       "3      2018-07-24 20:41:37  2018      7        3   24    30          1    20   \n",
       "4      2018-08-08 08:38:49  2018      8        3    8    32          2     8   \n",
       "\n",
       "   minute  is_weekend  \n",
       "0      56           0  \n",
       "1      56           0  \n",
       "2      56           0  \n",
       "3      41           0  \n",
       "4      38           0  "
      ]
     },
     "execution_count": 34,
     "metadata": {},
     "output_type": "execute_result"
    }
   ],
   "source": [
    "dimFechaHora['order_purchase_timestamp']=pd.to_datetime(dimFechaHora['order_purchase_timestamp'])\n",
    "dimFechaHora['year'] = pd.DatetimeIndex(dimFechaHora['order_purchase_timestamp']).year\n",
    "dimFechaHora['month'] = pd.DatetimeIndex(dimFechaHora['order_purchase_timestamp']).month\n",
    "dimFechaHora['quarter'] = pd.DatetimeIndex(dimFechaHora['order_purchase_timestamp']).quarter\n",
    "dimFechaHora['day'] = pd.DatetimeIndex(dimFechaHora['order_purchase_timestamp']).day\n",
    "dimFechaHora['week'] = pd.DatetimeIndex(dimFechaHora['order_purchase_timestamp']).week\n",
    "dimFechaHora['dayofweek'] = pd.DatetimeIndex(dimFechaHora['order_purchase_timestamp']).dayofweek\n",
    "dimFechaHora['hour'] = pd.DatetimeIndex(dimFechaHora['order_purchase_timestamp']).hour\n",
    "dimFechaHora['minute'] = pd.DatetimeIndex(dimFechaHora['order_purchase_timestamp']).minute\n",
    "dimFechaHora['is_weekend'] = dimFechaHora['dayofweek'].apply(lambda x: 1 if x > 5 else 0)\n",
    "dimFechaHora.head()"
   ]
  },
  {
   "cell_type": "code",
   "execution_count": 35,
   "metadata": {},
   "outputs": [
    {
     "data": {
      "text/html": [
       "<div>\n",
       "<style scoped>\n",
       "    .dataframe tbody tr th:only-of-type {\n",
       "        vertical-align: middle;\n",
       "    }\n",
       "\n",
       "    .dataframe tbody tr th {\n",
       "        vertical-align: top;\n",
       "    }\n",
       "\n",
       "    .dataframe thead th {\n",
       "        text-align: right;\n",
       "    }\n",
       "</style>\n",
       "<table border=\"1\" class=\"dataframe\">\n",
       "  <thead>\n",
       "    <tr style=\"text-align: right;\">\n",
       "      <th></th>\n",
       "      <th>order_purchase_timestamp</th>\n",
       "      <th>year</th>\n",
       "      <th>month</th>\n",
       "      <th>quarter</th>\n",
       "      <th>day</th>\n",
       "      <th>week</th>\n",
       "      <th>dayofweek</th>\n",
       "      <th>hour</th>\n",
       "      <th>minute</th>\n",
       "      <th>is_weekend</th>\n",
       "      <th>dimfecha</th>\n",
       "    </tr>\n",
       "  </thead>\n",
       "  <tbody>\n",
       "    <tr>\n",
       "      <th>0</th>\n",
       "      <td>2017-10-02 10:56:33</td>\n",
       "      <td>2017</td>\n",
       "      <td>10</td>\n",
       "      <td>4</td>\n",
       "      <td>2</td>\n",
       "      <td>40</td>\n",
       "      <td>0</td>\n",
       "      <td>10</td>\n",
       "      <td>56</td>\n",
       "      <td>0</td>\n",
       "      <td>20171021056</td>\n",
       "    </tr>\n",
       "    <tr>\n",
       "      <th>3</th>\n",
       "      <td>2018-07-24 20:41:37</td>\n",
       "      <td>2018</td>\n",
       "      <td>7</td>\n",
       "      <td>3</td>\n",
       "      <td>24</td>\n",
       "      <td>30</td>\n",
       "      <td>1</td>\n",
       "      <td>20</td>\n",
       "      <td>41</td>\n",
       "      <td>0</td>\n",
       "      <td>20187242041</td>\n",
       "    </tr>\n",
       "    <tr>\n",
       "      <th>4</th>\n",
       "      <td>2018-08-08 08:38:49</td>\n",
       "      <td>2018</td>\n",
       "      <td>8</td>\n",
       "      <td>3</td>\n",
       "      <td>8</td>\n",
       "      <td>32</td>\n",
       "      <td>2</td>\n",
       "      <td>8</td>\n",
       "      <td>38</td>\n",
       "      <td>0</td>\n",
       "      <td>201888838</td>\n",
       "    </tr>\n",
       "    <tr>\n",
       "      <th>5</th>\n",
       "      <td>2017-11-18 19:28:06</td>\n",
       "      <td>2017</td>\n",
       "      <td>11</td>\n",
       "      <td>4</td>\n",
       "      <td>18</td>\n",
       "      <td>46</td>\n",
       "      <td>5</td>\n",
       "      <td>19</td>\n",
       "      <td>28</td>\n",
       "      <td>0</td>\n",
       "      <td>201711181928</td>\n",
       "    </tr>\n",
       "    <tr>\n",
       "      <th>6</th>\n",
       "      <td>2018-02-13 21:18:39</td>\n",
       "      <td>2018</td>\n",
       "      <td>2</td>\n",
       "      <td>1</td>\n",
       "      <td>13</td>\n",
       "      <td>7</td>\n",
       "      <td>1</td>\n",
       "      <td>21</td>\n",
       "      <td>18</td>\n",
       "      <td>0</td>\n",
       "      <td>20182132118</td>\n",
       "    </tr>\n",
       "  </tbody>\n",
       "</table>\n",
       "</div>"
      ],
      "text/plain": [
       "  order_purchase_timestamp  year  month  quarter  day  week  dayofweek  hour  \\\n",
       "0      2017-10-02 10:56:33  2017     10        4    2    40          0    10   \n",
       "3      2018-07-24 20:41:37  2018      7        3   24    30          1    20   \n",
       "4      2018-08-08 08:38:49  2018      8        3    8    32          2     8   \n",
       "5      2017-11-18 19:28:06  2017     11        4   18    46          5    19   \n",
       "6      2018-02-13 21:18:39  2018      2        1   13     7          1    21   \n",
       "\n",
       "   minute  is_weekend      dimfecha  \n",
       "0      56           0   20171021056  \n",
       "3      41           0   20187242041  \n",
       "4      38           0     201888838  \n",
       "5      28           0  201711181928  \n",
       "6      18           0   20182132118  "
      ]
     },
     "execution_count": 35,
     "metadata": {},
     "output_type": "execute_result"
    }
   ],
   "source": [
    "dimFechaHora['dimfecha'] = dimFechaHora['year'].astype(str) + dimFechaHora['month'].astype(str)\n",
    "dimFechaHora['dimfecha'] = dimFechaHora['dimfecha'].astype(str) + dimFechaHora['day'].astype(str)\n",
    "dimFechaHora['dimfecha'] = dimFechaHora['dimfecha'].astype(str) + dimFechaHora['hour'].astype(str)\n",
    "dimFechaHora['dimfecha'] = dimFechaHora['dimfecha'].astype(str) + dimFechaHora['minute'].astype(str)\n",
    "dimFechaHora.drop_duplicates(inplace=True)\n",
    "dimFechaHora.head()"
   ]
  },
  {
   "cell_type": "code",
   "execution_count": 36,
   "metadata": {},
   "outputs": [
    {
     "data": {
      "text/html": [
       "<div>\n",
       "<style scoped>\n",
       "    .dataframe tbody tr th:only-of-type {\n",
       "        vertical-align: middle;\n",
       "    }\n",
       "\n",
       "    .dataframe tbody tr th {\n",
       "        vertical-align: top;\n",
       "    }\n",
       "\n",
       "    .dataframe thead th {\n",
       "        text-align: right;\n",
       "    }\n",
       "</style>\n",
       "<table border=\"1\" class=\"dataframe\">\n",
       "  <thead>\n",
       "    <tr style=\"text-align: right;\">\n",
       "      <th></th>\n",
       "      <th>id_detalle</th>\n",
       "      <th>order_purchase_timestamp</th>\n",
       "      <th>price</th>\n",
       "      <th>payment_value</th>\n",
       "      <th>order_item_id</th>\n",
       "      <th>ordersk</th>\n",
       "      <th>customersk</th>\n",
       "      <th>paymentsk</th>\n",
       "      <th>reviewsk</th>\n",
       "      <th>productsk</th>\n",
       "      <th>sellersk</th>\n",
       "      <th>productcatesk</th>\n",
       "    </tr>\n",
       "  </thead>\n",
       "  <tbody>\n",
       "    <tr>\n",
       "      <th>0</th>\n",
       "      <td>1</td>\n",
       "      <td>2017-10-02 10:56:33</td>\n",
       "      <td>29.99</td>\n",
       "      <td>18.12</td>\n",
       "      <td>1</td>\n",
       "      <td>88950</td>\n",
       "      <td>61760</td>\n",
       "      <td>1</td>\n",
       "      <td>63691.0</td>\n",
       "      <td>17417</td>\n",
       "      <td>630</td>\n",
       "      <td>72</td>\n",
       "    </tr>\n",
       "    <tr>\n",
       "      <th>1</th>\n",
       "      <td>2</td>\n",
       "      <td>2017-10-02 10:56:33</td>\n",
       "      <td>29.99</td>\n",
       "      <td>2.00</td>\n",
       "      <td>1</td>\n",
       "      <td>88950</td>\n",
       "      <td>61760</td>\n",
       "      <td>4</td>\n",
       "      <td>63691.0</td>\n",
       "      <td>17417</td>\n",
       "      <td>630</td>\n",
       "      <td>72</td>\n",
       "    </tr>\n",
       "    <tr>\n",
       "      <th>2</th>\n",
       "      <td>3</td>\n",
       "      <td>2017-10-02 10:56:33</td>\n",
       "      <td>29.99</td>\n",
       "      <td>18.59</td>\n",
       "      <td>1</td>\n",
       "      <td>88950</td>\n",
       "      <td>61760</td>\n",
       "      <td>4</td>\n",
       "      <td>63691.0</td>\n",
       "      <td>17417</td>\n",
       "      <td>630</td>\n",
       "      <td>72</td>\n",
       "    </tr>\n",
       "    <tr>\n",
       "      <th>3</th>\n",
       "      <td>4</td>\n",
       "      <td>2018-07-24 20:41:37</td>\n",
       "      <td>118.70</td>\n",
       "      <td>141.46</td>\n",
       "      <td>1</td>\n",
       "      <td>32545</td>\n",
       "      <td>68729</td>\n",
       "      <td>0</td>\n",
       "      <td>54401.0</td>\n",
       "      <td>11598</td>\n",
       "      <td>477</td>\n",
       "      <td>62</td>\n",
       "    </tr>\n",
       "    <tr>\n",
       "      <th>4</th>\n",
       "      <td>5</td>\n",
       "      <td>2018-08-08 08:38:49</td>\n",
       "      <td>159.90</td>\n",
       "      <td>179.12</td>\n",
       "      <td>1</td>\n",
       "      <td>27769</td>\n",
       "      <td>25513</td>\n",
       "      <td>1</td>\n",
       "      <td>88951.0</td>\n",
       "      <td>21798</td>\n",
       "      <td>857</td>\n",
       "      <td>8</td>\n",
       "    </tr>\n",
       "  </tbody>\n",
       "</table>\n",
       "</div>"
      ],
      "text/plain": [
       "   id_detalle order_purchase_timestamp   price  payment_value  order_item_id  \\\n",
       "0           1      2017-10-02 10:56:33   29.99          18.12              1   \n",
       "1           2      2017-10-02 10:56:33   29.99           2.00              1   \n",
       "2           3      2017-10-02 10:56:33   29.99          18.59              1   \n",
       "3           4      2018-07-24 20:41:37  118.70         141.46              1   \n",
       "4           5      2018-08-08 08:38:49  159.90         179.12              1   \n",
       "\n",
       "   ordersk  customersk  paymentsk  reviewsk  productsk  sellersk  \\\n",
       "0    88950       61760          1   63691.0      17417       630   \n",
       "1    88950       61760          4   63691.0      17417       630   \n",
       "2    88950       61760          4   63691.0      17417       630   \n",
       "3    32545       68729          0   54401.0      11598       477   \n",
       "4    27769       25513          1   88951.0      21798       857   \n",
       "\n",
       "   productcatesk  \n",
       "0             72  \n",
       "1             72  \n",
       "2             72  \n",
       "3             62  \n",
       "4              8  "
      ]
     },
     "execution_count": 36,
     "metadata": {},
     "output_type": "execute_result"
    }
   ],
   "source": [
    "sql_query = '''SELECT * FROM ventas;'''\n",
    "df_factTable = pd.read_sql(sql_query, postgres_driver)\n",
    "df_factTable.head()"
   ]
  },
  {
   "cell_type": "code",
   "execution_count": 37,
   "metadata": {},
   "outputs": [
    {
     "data": {
      "text/html": [
       "<div>\n",
       "<style scoped>\n",
       "    .dataframe tbody tr th:only-of-type {\n",
       "        vertical-align: middle;\n",
       "    }\n",
       "\n",
       "    .dataframe tbody tr th {\n",
       "        vertical-align: top;\n",
       "    }\n",
       "\n",
       "    .dataframe thead th {\n",
       "        text-align: right;\n",
       "    }\n",
       "</style>\n",
       "<table border=\"1\" class=\"dataframe\">\n",
       "  <thead>\n",
       "    <tr style=\"text-align: right;\">\n",
       "      <th></th>\n",
       "      <th>id_detalle</th>\n",
       "      <th>price</th>\n",
       "      <th>payment_value</th>\n",
       "      <th>order_item_id</th>\n",
       "      <th>ordersk</th>\n",
       "      <th>customersk</th>\n",
       "      <th>paymentsk</th>\n",
       "      <th>reviewsk</th>\n",
       "      <th>productsk</th>\n",
       "      <th>sellersk</th>\n",
       "      <th>productcatesk</th>\n",
       "      <th>dimfechafk</th>\n",
       "    </tr>\n",
       "  </thead>\n",
       "  <tbody>\n",
       "    <tr>\n",
       "      <th>0</th>\n",
       "      <td>1</td>\n",
       "      <td>29.99</td>\n",
       "      <td>18.12</td>\n",
       "      <td>1</td>\n",
       "      <td>88950</td>\n",
       "      <td>61760</td>\n",
       "      <td>1</td>\n",
       "      <td>63691.0</td>\n",
       "      <td>17417</td>\n",
       "      <td>630</td>\n",
       "      <td>72</td>\n",
       "      <td>20171021056</td>\n",
       "    </tr>\n",
       "    <tr>\n",
       "      <th>1</th>\n",
       "      <td>2</td>\n",
       "      <td>29.99</td>\n",
       "      <td>2.00</td>\n",
       "      <td>1</td>\n",
       "      <td>88950</td>\n",
       "      <td>61760</td>\n",
       "      <td>4</td>\n",
       "      <td>63691.0</td>\n",
       "      <td>17417</td>\n",
       "      <td>630</td>\n",
       "      <td>72</td>\n",
       "      <td>20171021056</td>\n",
       "    </tr>\n",
       "    <tr>\n",
       "      <th>2</th>\n",
       "      <td>3</td>\n",
       "      <td>29.99</td>\n",
       "      <td>18.59</td>\n",
       "      <td>1</td>\n",
       "      <td>88950</td>\n",
       "      <td>61760</td>\n",
       "      <td>4</td>\n",
       "      <td>63691.0</td>\n",
       "      <td>17417</td>\n",
       "      <td>630</td>\n",
       "      <td>72</td>\n",
       "      <td>20171021056</td>\n",
       "    </tr>\n",
       "    <tr>\n",
       "      <th>3</th>\n",
       "      <td>4</td>\n",
       "      <td>118.70</td>\n",
       "      <td>141.46</td>\n",
       "      <td>1</td>\n",
       "      <td>32545</td>\n",
       "      <td>68729</td>\n",
       "      <td>0</td>\n",
       "      <td>54401.0</td>\n",
       "      <td>11598</td>\n",
       "      <td>477</td>\n",
       "      <td>62</td>\n",
       "      <td>20187242041</td>\n",
       "    </tr>\n",
       "    <tr>\n",
       "      <th>4</th>\n",
       "      <td>5</td>\n",
       "      <td>159.90</td>\n",
       "      <td>179.12</td>\n",
       "      <td>1</td>\n",
       "      <td>27769</td>\n",
       "      <td>25513</td>\n",
       "      <td>1</td>\n",
       "      <td>88951.0</td>\n",
       "      <td>21798</td>\n",
       "      <td>857</td>\n",
       "      <td>8</td>\n",
       "      <td>201888838</td>\n",
       "    </tr>\n",
       "  </tbody>\n",
       "</table>\n",
       "</div>"
      ],
      "text/plain": [
       "   id_detalle   price  payment_value  order_item_id  ordersk  customersk  \\\n",
       "0           1   29.99          18.12              1    88950       61760   \n",
       "1           2   29.99           2.00              1    88950       61760   \n",
       "2           3   29.99          18.59              1    88950       61760   \n",
       "3           4  118.70         141.46              1    32545       68729   \n",
       "4           5  159.90         179.12              1    27769       25513   \n",
       "\n",
       "   paymentsk  reviewsk  productsk  sellersk  productcatesk   dimfechafk  \n",
       "0          1   63691.0      17417       630             72  20171021056  \n",
       "1          4   63691.0      17417       630             72  20171021056  \n",
       "2          4   63691.0      17417       630             72  20171021056  \n",
       "3          0   54401.0      11598       477             62  20187242041  \n",
       "4          1   88951.0      21798       857              8    201888838  "
      ]
     },
     "execution_count": 37,
     "metadata": {},
     "output_type": "execute_result"
    }
   ],
   "source": [
    "df_factTable['order_purchase_timestamp']=pd.to_datetime(df_factTable['order_purchase_timestamp'])\n",
    "df_factTable['year'] = pd.DatetimeIndex(df_factTable['order_purchase_timestamp']).year\n",
    "df_factTable['month'] = pd.DatetimeIndex(df_factTable['order_purchase_timestamp']).month\n",
    "df_factTable['day'] = pd.DatetimeIndex(df_factTable['order_purchase_timestamp']).day\n",
    "df_factTable['hour'] = pd.DatetimeIndex(df_factTable['order_purchase_timestamp']).hour\n",
    "df_factTable['minute'] = pd.DatetimeIndex(df_factTable['order_purchase_timestamp']).minute\n",
    "df_factTable['dimfechafk'] = df_factTable['year'].astype(str) + df_factTable['month'].astype(str)\n",
    "df_factTable['dimfechafk'] = df_factTable['dimfechafk'].astype(str) + df_factTable['day'].astype(str)\n",
    "df_factTable['dimfechafk'] = df_factTable['dimfechafk'].astype(str) + df_factTable['hour'].astype(str)\n",
    "df_factTable['dimfechafk'] = df_factTable['dimfechafk'].astype(str) + df_factTable['minute'].astype(str)\n",
    "factTable_transacciones = df_factTable.drop(['year', 'month', 'day', 'hour', 'minute', 'order_purchase_timestamp'], axis=1)\n",
    "factTable_transacciones.head()"
   ]
  },
  {
   "attachments": {},
   "cell_type": "markdown",
   "metadata": {},
   "source": [
    "##### Lectura de Archivo desde S3"
   ]
  },
  {
   "cell_type": "code",
   "execution_count": 38,
   "metadata": {},
   "outputs": [],
   "source": [
    "s3 = boto3.resource(\n",
    "    service_name = 's3',\n",
    "    region_name = 'us-east-1',\n",
    "    aws_access_key_id = config.get('IAM', 'ACCESS_KEY'),\n",
    "    aws_secret_access_key = config.get('IAM', 'SECRET_ACCESS_KEY')\n",
    ")"
   ]
  },
  {
   "cell_type": "code",
   "execution_count": 39,
   "metadata": {},
   "outputs": [
    {
     "name": "stdout",
     "output_type": "stream",
     "text": [
      "cdp-18001404\n"
     ]
    }
   ],
   "source": [
    "for bucket in s3.buckets.all():\n",
    "    S3_BUCKET_NAME = bucket.name\n",
    "    print(bucket.name)"
   ]
  },
  {
   "cell_type": "code",
   "execution_count": 40,
   "metadata": {},
   "outputs": [],
   "source": [
    "S3_BUCKET_NAME = 'cdp-18001404'"
   ]
  },
  {
   "cell_type": "code",
   "execution_count": 41,
   "metadata": {},
   "outputs": [
    {
     "data": {
      "text/plain": [
       "['paymentype.xlsx', 'productcate.xlsx']"
      ]
     },
     "execution_count": 41,
     "metadata": {},
     "output_type": "execute_result"
    }
   ],
   "source": [
    "#extraemos todo lo que está en el bucket\n",
    "remoteFileList = []\n",
    "for objt in s3.Bucket(S3_BUCKET_NAME).objects.all():\n",
    "    remoteFileList.append(objt.key)\n",
    "\n",
    "remoteFileList"
   ]
  },
  {
   "attachments": {},
   "cell_type": "markdown",
   "metadata": {},
   "source": [
    "##### leemos data de S3"
   ]
  },
  {
   "cell_type": "code",
   "execution_count": 42,
   "metadata": {},
   "outputs": [],
   "source": [
    "import io\n",
    "\n",
    "try:\n",
    "    file = s3.Bucket(S3_BUCKET_NAME).Object('paymentype.xlsx').get()\n",
    "    data = file['Body'].read()\n",
    "    dimpaymentype = pd.read_excel(io.BytesIO(data), engine='openpyxl')\n",
    "    file = s3.Bucket(S3_BUCKET_NAME).Object('productcate.xlsx').get()\n",
    "    data = file['Body'].read()\n",
    "    dimproductcate = pd.read_excel(io.BytesIO(data), engine='openpyxl')\n",
    "except Exception as ex:\n",
    "    print(\"No es un archivo.\")\n",
    "    print(ex)"
   ]
  },
  {
   "attachments": {},
   "cell_type": "markdown",
   "metadata": {},
   "source": [
    "##### Creación de Instancias en AWS para DW"
   ]
  },
  {
   "cell_type": "code",
   "execution_count": 43,
   "metadata": {},
   "outputs": [
    {
     "data": {
      "text/plain": [
       "['escec.cfg']"
      ]
     },
     "execution_count": 43,
     "metadata": {},
     "output_type": "execute_result"
    }
   ],
   "source": [
    "config = configparser.ConfigParser()\n",
    "config.read('escec.cfg')"
   ]
  },
  {
   "cell_type": "code",
   "execution_count": 44,
   "metadata": {},
   "outputs": [
    {
     "name": "stdout",
     "output_type": "stream",
     "text": [
      "<botocore.client.RDS object at 0x000001A22D08ACA0>\n"
     ]
    }
   ],
   "source": [
    "aws_conn = boto3.client('rds', aws_access_key_id=config.get('IAM', 'ACCESS_KEY'),\n",
    "                    aws_secret_access_key=config.get('IAM', 'SECRET_ACCESS_KEY'),\n",
    "                    region_name='us-east-1')\n",
    "print(aws_conn)"
   ]
  },
  {
   "cell_type": "code",
   "execution_count": 45,
   "metadata": {},
   "outputs": [
    {
     "name": "stdout",
     "output_type": "stream",
     "text": [
      "DBInstanceIds ['comercio-db']\n"
     ]
    }
   ],
   "source": [
    "rdsInstanceIds = []\n",
    "\n",
    "response = aws_conn.describe_db_instances()\n",
    "for resp in response['DBInstances']:\n",
    "    rdsInstanceIds.append(resp['DBInstanceIdentifier'])\n",
    "    db_instance_status = resp['DBInstanceStatus']\n",
    "\n",
    "print(f\"DBInstanceIds {rdsInstanceIds}\")"
   ]
  },
  {
   "cell_type": "code",
   "execution_count": 46,
   "metadata": {},
   "outputs": [],
   "source": [
    "rdsIdentifier = 'dw-db'"
   ]
  },
  {
   "cell_type": "code",
   "execution_count": 47,
   "metadata": {},
   "outputs": [
    {
     "name": "stdout",
     "output_type": "stream",
     "text": [
      "{'DBInstance': {'DBInstanceIdentifier': 'dw-db', 'DBInstanceClass': 'db.t3.micro', 'Engine': 'mysql', 'DBInstanceStatus': 'creating', 'MasterUsername': 'root', 'DBName': 'dw', 'AllocatedStorage': 10, 'PreferredBackupWindow': '07:40-08:10', 'BackupRetentionPeriod': 1, 'DBSecurityGroups': [], 'VpcSecurityGroups': [{'VpcSecurityGroupId': 'sg-0a991954ba54ddb2e', 'Status': 'active'}], 'DBParameterGroups': [{'DBParameterGroupName': 'default.mysql8.0', 'ParameterApplyStatus': 'in-sync'}], 'DBSubnetGroup': {'DBSubnetGroupName': 'default', 'DBSubnetGroupDescription': 'default', 'VpcId': 'vpc-018eccc2fe2d01a58', 'SubnetGroupStatus': 'Complete', 'Subnets': [{'SubnetIdentifier': 'subnet-0dba6b93abeb35181', 'SubnetAvailabilityZone': {'Name': 'us-east-1f'}, 'SubnetOutpost': {}, 'SubnetStatus': 'Active'}, {'SubnetIdentifier': 'subnet-0bf89f2925eb7560f', 'SubnetAvailabilityZone': {'Name': 'us-east-1b'}, 'SubnetOutpost': {}, 'SubnetStatus': 'Active'}, {'SubnetIdentifier': 'subnet-0d33d4f2374493feb', 'SubnetAvailabilityZone': {'Name': 'us-east-1d'}, 'SubnetOutpost': {}, 'SubnetStatus': 'Active'}, {'SubnetIdentifier': 'subnet-0ce9771be3eb85797', 'SubnetAvailabilityZone': {'Name': 'us-east-1a'}, 'SubnetOutpost': {}, 'SubnetStatus': 'Active'}, {'SubnetIdentifier': 'subnet-03984bd038d56eb78', 'SubnetAvailabilityZone': {'Name': 'us-east-1e'}, 'SubnetOutpost': {}, 'SubnetStatus': 'Active'}, {'SubnetIdentifier': 'subnet-02680a46bf6284c1a', 'SubnetAvailabilityZone': {'Name': 'us-east-1c'}, 'SubnetOutpost': {}, 'SubnetStatus': 'Active'}]}, 'PreferredMaintenanceWindow': 'sat:08:58-sat:09:28', 'PendingModifiedValues': {'MasterUserPassword': '****'}, 'MultiAZ': False, 'EngineVersion': '8.0.32', 'AutoMinorVersionUpgrade': True, 'ReadReplicaDBInstanceIdentifiers': [], 'LicenseModel': 'general-public-license', 'OptionGroupMemberships': [{'OptionGroupName': 'default:mysql-8-0', 'Status': 'in-sync'}], 'PubliclyAccessible': True, 'StorageType': 'gp2', 'DbInstancePort': 0, 'StorageEncrypted': False, 'DbiResourceId': 'db-2VIT7MMV7XMNAL5ULGC26BGY2Q', 'CACertificateIdentifier': 'rds-ca-2019', 'DomainMemberships': [], 'CopyTagsToSnapshot': False, 'MonitoringInterval': 0, 'DBInstanceArn': 'arn:aws:rds:us-east-1:870867489953:db:dw-db', 'IAMDatabaseAuthenticationEnabled': False, 'PerformanceInsightsEnabled': False, 'DeletionProtection': False, 'AssociatedRoles': [], 'TagList': [], 'CustomerOwnedIpEnabled': False, 'BackupTarget': 'region', 'NetworkType': 'IPV4'}, 'ResponseMetadata': {'RequestId': 'aec9bd4a-dd89-4b7b-8a34-f5e939c66124', 'HTTPStatusCode': 200, 'HTTPHeaders': {'x-amzn-requestid': 'aec9bd4a-dd89-4b7b-8a34-f5e939c66124', 'strict-transport-security': 'max-age=31536000', 'content-type': 'text/xml', 'content-length': '5134', 'date': 'Sat, 01 Apr 2023 23:04:20 GMT'}, 'RetryAttempts': 0}}\n"
     ]
    }
   ],
   "source": [
    "try:\n",
    "    response = aws_conn.create_db_instance(\n",
    "            AllocatedStorage=10,\n",
    "            DBName=config.get('RDS_MYSQL', 'DB_NAME'),\n",
    "            DBInstanceIdentifier=rdsIdentifier,\n",
    "            DBInstanceClass=\"db.t3.micro\",\n",
    "            Engine=\"mysql\",\n",
    "            MasterUsername=config.get('RDS_MYSQL', 'DB_USER'),\n",
    "            MasterUserPassword=config.get('RDS_MYSQL', 'DB_PASSWORD'),\n",
    "            Port=int(config.get('RDS_MYSQL', 'DB_PORT')),\n",
    "            VpcSecurityGroupIds=[config.get('VPC', 'SECURITY_GROUP')],\n",
    "            PubliclyAccessible=True\n",
    "        )\n",
    "    print(response)\n",
    "except aws_conn.exceptions.DBInstanceAlreadyExistsFault as ex:\n",
    "    print(\"La Instancia de Base de Datos ya Existe.\")"
   ]
  },
  {
   "cell_type": "code",
   "execution_count": 50,
   "metadata": {},
   "outputs": [
    {
     "name": "stdout",
     "output_type": "stream",
     "text": [
      "dw-db.cxfxom467xtx.us-east-1.rds.amazonaws.com\n"
     ]
    }
   ],
   "source": [
    "try:\n",
    "     instances = aws_conn.describe_db_instances(DBInstanceIdentifier=rdsIdentifier)\n",
    "     RDS_DW_HOST = instances.get('DBInstances')[0].get('Endpoint').get('Address')\n",
    "     print(RDS_DW_HOST)\n",
    "except Exception as ex:\n",
    "     print(\"La instancia de base de datos no existe o aun no se ha terminado de crear.\")\n",
    "     print(ex)"
   ]
  },
  {
   "cell_type": "code",
   "execution_count": 51,
   "metadata": {},
   "outputs": [
    {
     "name": "stdout",
     "output_type": "stream",
     "text": [
      "Data Warehouse Creado Exitosamente\n"
     ]
    }
   ],
   "source": [
    "import create_dw_query\n",
    "import mysql.connector as mysqlC\n",
    "try:\n",
    "    myDw = mysqlC.connect(\n",
    "    host=RDS_DW_HOST, \n",
    "    user=config.get('RDS_MYSQL', 'DB_USER'),\n",
    "    password=config.get('RDS_MYSQL', 'DB_PASSWORD'),\n",
    "    database=config.get('RDS_MYSQL', 'DB_NAME')\n",
    "    )\n",
    "    \n",
    "    mycursor = myDw.cursor()\n",
    "    mycursor.execute(create_dw_query.CREATE_DW, multi=True)\n",
    "    \n",
    "    myDw.close()\n",
    "    \n",
    "    print(\"Data Warehouse Creado Exitosamente\")\n",
    "except mysqlC.Error as err:\n",
    "    print(\"Something went wrong:{}\".format(err))"
   ]
  },
  {
   "attachments": {},
   "cell_type": "markdown",
   "metadata": {},
   "source": [
    "#### Insertamos datos"
   ]
  },
  {
   "cell_type": "code",
   "execution_count": 52,
   "metadata": {},
   "outputs": [],
   "source": [
    "mysql_driver = f\"\"\"mysql+pymysql://{config.get('RDS_MYSQL', 'DB_USER')}:{config.get('RDS_MYSQL', 'DB_PASSWORD')}@{RDS_DW_HOST}:{config.get('RDS_MYSQL', 'DB_PORT')}/{config.get('RDS_MYSQL', 'DB_NAME')}\"\"\"  "
   ]
  },
  {
   "cell_type": "code",
   "execution_count": 53,
   "metadata": {},
   "outputs": [
    {
     "data": {
      "text/plain": [
       "Index(['paymentsk', 'payment_type'], dtype='object')"
      ]
     },
     "execution_count": 53,
     "metadata": {},
     "output_type": "execute_result"
    }
   ],
   "source": [
    "dimpaymentype.columns"
   ]
  },
  {
   "cell_type": "code",
   "execution_count": null,
   "metadata": {},
   "outputs": [],
   "source": [
    "#cambio nombre de columnas previo a insertar dentro de dimension\n",
    "dimpaymentype=dimpaymentype.rename(columns={\"paymentsk\": \"dimpaymentpk\"})\n",
    "#se insertan los datos\n",
    "dimpaymentype.to_sql('dimpaymentype', mysql_driver, index=False, if_exists='append')"
   ]
  },
  {
   "cell_type": "code",
   "execution_count": 56,
   "metadata": {},
   "outputs": [
    {
     "data": {
      "text/plain": [
       "Index(['order_purchase_timestamp', 'year', 'month', 'quarter', 'day', 'week',\n",
       "       'dayofweek', 'hour', 'minute', 'is_weekend', 'dimfecha'],\n",
       "      dtype='object')"
      ]
     },
     "execution_count": 56,
     "metadata": {},
     "output_type": "execute_result"
    }
   ],
   "source": [
    "dimFechaHora.columns"
   ]
  },
  {
   "cell_type": "code",
   "execution_count": 57,
   "metadata": {},
   "outputs": [],
   "source": [
    "#cambio nombre de columnas previo a insertar dentro de dimension\n",
    "dimFechaHora=dimFechaHora.rename(columns={\"dimfecha\": \"dimfechapk\"})\n",
    "#quito dia\n",
    "dimFechaHora=dimFechaHora.loc[:, dimFechaHora.columns != 'day']\n",
    "#quito duplicado por ser llave tipo string(espacios)\n",
    "dimFechaHora['dimfechapk']=dimFechaHora['dimfechapk'].str.strip()\n",
    "dimFechaHora=dimFechaHora.drop_duplicates(subset='dimfechapk', keep=\"last\")\n"
   ]
  },
  {
   "cell_type": "code",
   "execution_count": 58,
   "metadata": {},
   "outputs": [
    {
     "data": {
      "text/plain": [
       "87380"
      ]
     },
     "execution_count": 58,
     "metadata": {},
     "output_type": "execute_result"
    }
   ],
   "source": [
    "len(dimFechaHora['dimfechapk'])"
   ]
  },
  {
   "cell_type": "code",
   "execution_count": 59,
   "metadata": {},
   "outputs": [
    {
     "data": {
      "text/plain": [
       "87380"
      ]
     },
     "execution_count": 59,
     "metadata": {},
     "output_type": "execute_result"
    }
   ],
   "source": [
    "#se insertan los datos\n",
    "dimFechaHora.to_sql('dimcalendar', mysql_driver, index=False, if_exists='append')"
   ]
  },
  {
   "cell_type": "code",
   "execution_count": 60,
   "metadata": {},
   "outputs": [
    {
     "data": {
      "text/plain": [
       "Index(['customersk', 'customer_id', 'name', 'email', 'phone', 'customer_city',\n",
       "       'customer_state'],\n",
       "      dtype='object')"
      ]
     },
     "execution_count": 60,
     "metadata": {},
     "output_type": "execute_result"
    }
   ],
   "source": [
    "#se ve nombres \n",
    "dimcustomer.columns"
   ]
  },
  {
   "cell_type": "code",
   "execution_count": 61,
   "metadata": {},
   "outputs": [
    {
     "data": {
      "text/plain": [
       "99441"
      ]
     },
     "execution_count": 61,
     "metadata": {},
     "output_type": "execute_result"
    }
   ],
   "source": [
    "#cambio nombre de columnas previo a insertar dentro de dimension\n",
    "dimcustomer=dimcustomer.rename(columns={\"customersk\": \"dimcustomerpk\"})\n",
    "#se insertan los datos\n",
    "dimcustomer.to_sql('dimcustomer', mysql_driver, index=False, if_exists='append')"
   ]
  },
  {
   "cell_type": "code",
   "execution_count": 62,
   "metadata": {},
   "outputs": [
    {
     "data": {
      "text/plain": [
       "Index(['sellersk', 'seller_id', 'name', 'email', 'phone', 'seller_city',\n",
       "       'seller_state'],\n",
       "      dtype='object')"
      ]
     },
     "execution_count": 62,
     "metadata": {},
     "output_type": "execute_result"
    }
   ],
   "source": [
    "#se ve nombres \n",
    "dimseller.columns"
   ]
  },
  {
   "cell_type": "code",
   "execution_count": 63,
   "metadata": {},
   "outputs": [
    {
     "data": {
      "text/plain": [
       "3095"
      ]
     },
     "execution_count": 63,
     "metadata": {},
     "output_type": "execute_result"
    }
   ],
   "source": [
    "#cambio nombre de columnas previo a insertar dentro de dimension\n",
    "dimseller=dimseller.rename(columns={\"sellersk\": \"dimsellerpk\"})\n",
    "#se insertan los datos\n",
    "dimseller.to_sql('dimseller', mysql_driver, index=False, if_exists='append')"
   ]
  },
  {
   "cell_type": "code",
   "execution_count": 64,
   "metadata": {},
   "outputs": [
    {
     "data": {
      "text/plain": [
       "Index(['reviewsk', 'review_id', 'review_score', 'review_comment_message'], dtype='object')"
      ]
     },
     "execution_count": 64,
     "metadata": {},
     "output_type": "execute_result"
    }
   ],
   "source": [
    "#se ve nombres \n",
    "dimreview.columns"
   ]
  },
  {
   "cell_type": "code",
   "execution_count": 65,
   "metadata": {},
   "outputs": [],
   "source": [
    "#cambio nombre de columnas previo a insertar dentro de dimension\n",
    "dimreview=dimreview.rename(columns={\"reviewsk\": \"dimreviewpk\"})\n"
   ]
  },
  {
   "cell_type": "code",
   "execution_count": 66,
   "metadata": {},
   "outputs": [
    {
     "data": {
      "text/plain": [
       "98410"
      ]
     },
     "execution_count": 66,
     "metadata": {},
     "output_type": "execute_result"
    }
   ],
   "source": [
    "#se insertan los datos\n",
    "dimreview.to_sql('dimreview', mysql_driver, index=False, if_exists='append')"
   ]
  },
  {
   "cell_type": "code",
   "execution_count": 67,
   "metadata": {},
   "outputs": [
    {
     "data": {
      "text/plain": [
       "Index(['productsk', 'product_id', 'product_width_cm', 'product_length_cm',\n",
       "       'product_height_cm', 'product_weight_g'],\n",
       "      dtype='object')"
      ]
     },
     "execution_count": 67,
     "metadata": {},
     "output_type": "execute_result"
    }
   ],
   "source": [
    "#se ve nombres \n",
    "dimproduct.columns"
   ]
  },
  {
   "cell_type": "code",
   "execution_count": 68,
   "metadata": {},
   "outputs": [
    {
     "data": {
      "text/plain": [
       "32951"
      ]
     },
     "execution_count": 68,
     "metadata": {},
     "output_type": "execute_result"
    }
   ],
   "source": [
    "#cambio nombre de columnas previo a insertar dentro de dimension\n",
    "dimproduct=dimproduct.rename(columns={\"productsk\": \"dimproductpk\"})\n",
    "#se insertan los datos\n",
    "dimproduct.to_sql('dimproduct', mysql_driver, index=False, if_exists='append')"
   ]
  },
  {
   "cell_type": "code",
   "execution_count": 69,
   "metadata": {},
   "outputs": [
    {
     "data": {
      "text/plain": [
       "Index(['productcatesk', 'product_category_name'], dtype='object')"
      ]
     },
     "execution_count": 69,
     "metadata": {},
     "output_type": "execute_result"
    }
   ],
   "source": [
    "#se ve nombres \n",
    "dimproductcate.columns"
   ]
  },
  {
   "cell_type": "code",
   "execution_count": 71,
   "metadata": {},
   "outputs": [
    {
     "data": {
      "text/plain": [
       "74"
      ]
     },
     "execution_count": 71,
     "metadata": {},
     "output_type": "execute_result"
    }
   ],
   "source": [
    "#cambio nombre de columnas previo a insertar dentro de dimension\n",
    "dimproductcate=dimproductcate.rename(columns={\"productcatesk\": \"dimproductcatepk\"})\n",
    "\n",
    "#se insertan los datos\n",
    "dimproductcate.to_sql('dimproductcate', mysql_driver, index=False, if_exists='append')"
   ]
  },
  {
   "cell_type": "code",
   "execution_count": 72,
   "metadata": {},
   "outputs": [
    {
     "data": {
      "text/plain": [
       "Index(['ordersk', 'order_id', 'order_status'], dtype='object')"
      ]
     },
     "execution_count": 72,
     "metadata": {},
     "output_type": "execute_result"
    }
   ],
   "source": [
    "#se ve nombres \n",
    "dimorder.columns"
   ]
  },
  {
   "cell_type": "code",
   "execution_count": 73,
   "metadata": {},
   "outputs": [
    {
     "data": {
      "text/plain": [
       "99441"
      ]
     },
     "execution_count": 73,
     "metadata": {},
     "output_type": "execute_result"
    }
   ],
   "source": [
    "#cambio nombre de columnas previo a insertar dentro de dimension\n",
    "dimorder=dimorder.rename(columns={\"ordersk\": \"dimorderpk\"})\n",
    "\n",
    "#se insertan los datos\n",
    "dimorder.to_sql('dimorder', mysql_driver, index=False, if_exists='append')"
   ]
  },
  {
   "cell_type": "code",
   "execution_count": 74,
   "metadata": {},
   "outputs": [
    {
     "data": {
      "text/plain": [
       "Index(['id_detalle', 'price', 'payment_value', 'order_item_id', 'ordersk',\n",
       "       'customersk', 'paymentsk', 'reviewsk', 'productsk', 'sellersk',\n",
       "       'productcatesk', 'dimfechafk'],\n",
       "      dtype='object')"
      ]
     },
     "execution_count": 74,
     "metadata": {},
     "output_type": "execute_result"
    }
   ],
   "source": [
    "#se ve nombres \n",
    "factTable_transacciones.columns"
   ]
  },
  {
   "cell_type": "code",
   "execution_count": 75,
   "metadata": {},
   "outputs": [],
   "source": [
    "#cambio nombre de columnas previo a insertar dentro de dimension\n",
    "factTable_transacciones=factTable_transacciones.rename(columns={\"ordersk\": \"dimorderfk\",\"customersk\": \"dimcustomerfk\",\n",
    "                                                                \"paymentsk\": \"dimpaymentfk\",\"reviewsk\": \"dimreviewfk\",\n",
    "                                                                \"productsk\": \"dimproductfk\",\"sellersk\": \"dimsellerfk\",\n",
    "                                                                \"prodcutcatesk\": \"dimproductcatefk\",\"id_detalle\":\"id_registro\"})\n"
   ]
  },
  {
   "cell_type": "code",
   "execution_count": 76,
   "metadata": {},
   "outputs": [],
   "source": [
    "factTable_transacciones['dimfechafk']=factTable_transacciones['dimfechafk'].str.strip()"
   ]
  },
  {
   "cell_type": "code",
   "execution_count": 77,
   "metadata": {},
   "outputs": [
    {
     "data": {
      "text/plain": [
       "118307"
      ]
     },
     "execution_count": 77,
     "metadata": {},
     "output_type": "execute_result"
    }
   ],
   "source": [
    "#se insertan los datos\n",
    "factTable_transacciones.to_sql('factable', mysql_driver, index=False, if_exists='append')"
   ]
  }
 ],
 "metadata": {
  "kernelspec": {
   "display_name": "base",
   "language": "python",
   "name": "python3"
  },
  "language_info": {
   "codemirror_mode": {
    "name": "ipython",
    "version": 3
   },
   "file_extension": ".py",
   "mimetype": "text/x-python",
   "name": "python",
   "nbconvert_exporter": "python",
   "pygments_lexer": "ipython3",
   "version": "3.9.13"
  },
  "orig_nbformat": 4
 },
 "nbformat": 4,
 "nbformat_minor": 2
}
